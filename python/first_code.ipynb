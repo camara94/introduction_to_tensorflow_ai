{
 "cells": [
  {
   "cell_type": "markdown",
   "id": "b043e5c6",
   "metadata": {},
   "source": [
    "# First Excersice In Tensorflow\n",
    "\n",
    "## Importation des Packages"
   ]
  },
  {
   "cell_type": "code",
   "execution_count": 3,
   "id": "431af5a0",
   "metadata": {},
   "outputs": [],
   "source": [
    "import tensorflow as tf\n",
    "from tensorflow import keras\n",
    "import numpy as np"
   ]
  },
  {
   "cell_type": "code",
   "execution_count": 9,
   "id": "5caa4b5f-da6c-413c-bb7f-899774a925fb",
   "metadata": {},
   "outputs": [
    {
     "data": {
      "text/plain": [
       "'2.6.2'"
      ]
     },
     "execution_count": 9,
     "metadata": {},
     "output_type": "execute_result"
    }
   ],
   "source": [
    "tf.__version__"
   ]
  },
  {
   "cell_type": "markdown",
   "id": "59654c8c",
   "metadata": {},
   "source": [
    "## Création du mlodèles"
   ]
  },
  {
   "cell_type": "code",
   "execution_count": 4,
   "id": "9b5cdf90",
   "metadata": {},
   "outputs": [],
   "source": [
    "model = keras.Sequential(\n",
    "  [\n",
    "      keras.layers.Dense( units=1, input_shape=[1] )\n",
    "  ]\n",
    ")\n",
    "model.compile( \n",
    "    optimizer='sgd',\n",
    "    loss = 'mean_squared_error'\n",
    ")"
   ]
  },
  {
   "cell_type": "markdown",
   "id": "84715d0d",
   "metadata": {},
   "source": [
    "## Entrainement du modèle"
   ]
  },
  {
   "cell_type": "code",
   "execution_count": 6,
   "id": "babcadf1",
   "metadata": {},
   "outputs": [
    {
     "name": "stdout",
     "output_type": "stream",
     "text": [
      "Epoch 1/50\n",
      "1/1 [==============================] - 0s 379ms/step - loss: 13.6128\n",
      "Epoch 2/50\n",
      "1/1 [==============================] - 0s 16ms/step - loss: 10.9423\n",
      "Epoch 3/50\n",
      "1/1 [==============================] - 0s 8ms/step - loss: 8.8366\n",
      "Epoch 4/50\n",
      "1/1 [==============================] - 0s 11ms/step - loss: 7.1752\n",
      "Epoch 5/50\n",
      "1/1 [==============================] - 0s 5ms/step - loss: 5.8635\n",
      "Epoch 6/50\n",
      "1/1 [==============================] - 0s 3ms/step - loss: 4.8271\n",
      "Epoch 7/50\n",
      "1/1 [==============================] - 0s 10ms/step - loss: 4.0072\n",
      "Epoch 8/50\n",
      "1/1 [==============================] - 0s 7ms/step - loss: 3.3579\n",
      "Epoch 9/50\n",
      "1/1 [==============================] - 0s 3ms/step - loss: 2.8429\n",
      "Epoch 10/50\n",
      "1/1 [==============================] - 0s 9ms/step - loss: 2.4335\n",
      "Epoch 11/50\n",
      "1/1 [==============================] - 0s 6ms/step - loss: 2.1074\n",
      "Epoch 12/50\n",
      "1/1 [==============================] - 0s 5ms/step - loss: 1.8469\n",
      "Epoch 13/50\n",
      "1/1 [==============================] - 0s 7ms/step - loss: 1.6381\n",
      "Epoch 14/50\n",
      "1/1 [==============================] - 0s 5ms/step - loss: 1.4699\n",
      "Epoch 15/50\n",
      "1/1 [==============================] - 0s 4ms/step - loss: 1.3340\n",
      "Epoch 16/50\n",
      "1/1 [==============================] - 0s 3ms/step - loss: 1.2233\n",
      "Epoch 17/50\n",
      "1/1 [==============================] - 0s 10ms/step - loss: 1.1327\n",
      "Epoch 18/50\n",
      "1/1 [==============================] - 0s 3ms/step - loss: 1.0579\n",
      "Epoch 19/50\n",
      "1/1 [==============================] - 0s 11ms/step - loss: 0.9957\n",
      "Epoch 20/50\n",
      "1/1 [==============================] - 0s 8ms/step - loss: 0.9433\n",
      "Epoch 21/50\n",
      "1/1 [==============================] - 0s 5ms/step - loss: 0.8989\n",
      "Epoch 22/50\n",
      "1/1 [==============================] - 0s 8ms/step - loss: 0.8607\n",
      "Epoch 23/50\n",
      "1/1 [==============================] - 0s 5ms/step - loss: 0.8275\n",
      "Epoch 24/50\n",
      "1/1 [==============================] - 0s 3ms/step - loss: 0.7983\n",
      "Epoch 25/50\n",
      "1/1 [==============================] - 0s 11ms/step - loss: 0.7722\n",
      "Epoch 26/50\n",
      "1/1 [==============================] - 0s 4ms/step - loss: 0.7488\n",
      "Epoch 27/50\n",
      "1/1 [==============================] - 0s 3ms/step - loss: 0.7275\n",
      "Epoch 28/50\n",
      "1/1 [==============================] - 0s 8ms/step - loss: 0.7079\n",
      "Epoch 29/50\n",
      "1/1 [==============================] - 0s 5ms/step - loss: 0.6896\n",
      "Epoch 30/50\n",
      "1/1 [==============================] - 0s 7ms/step - loss: 0.6726\n",
      "Epoch 31/50\n",
      "1/1 [==============================] - 0s 8ms/step - loss: 0.6565\n",
      "Epoch 32/50\n",
      "1/1 [==============================] - 0s 6ms/step - loss: 0.6412\n",
      "Epoch 33/50\n",
      "1/1 [==============================] - 0s 5ms/step - loss: 0.6266\n",
      "Epoch 34/50\n",
      "1/1 [==============================] - 0s 4ms/step - loss: 0.6126\n",
      "Epoch 35/50\n",
      "1/1 [==============================] - 0s 12ms/step - loss: 0.5992\n",
      "Epoch 36/50\n",
      "1/1 [==============================] - 0s 5ms/step - loss: 0.5862\n",
      "Epoch 37/50\n",
      "1/1 [==============================] - 0s 4ms/step - loss: 0.5736\n",
      "Epoch 38/50\n",
      "1/1 [==============================] - 0s 7ms/step - loss: 0.5614\n",
      "Epoch 39/50\n",
      "1/1 [==============================] - 0s 7ms/step - loss: 0.5495\n",
      "Epoch 40/50\n",
      "1/1 [==============================] - 0s 6ms/step - loss: 0.5380\n",
      "Epoch 41/50\n",
      "1/1 [==============================] - 0s 13ms/step - loss: 0.5267\n",
      "Epoch 42/50\n",
      "1/1 [==============================] - 0s 7ms/step - loss: 0.5157\n",
      "Epoch 43/50\n",
      "1/1 [==============================] - 0s 4ms/step - loss: 0.5050\n",
      "Epoch 44/50\n",
      "1/1 [==============================] - 0s 13ms/step - loss: 0.4945\n",
      "Epoch 45/50\n",
      "1/1 [==============================] - 0s 7ms/step - loss: 0.4843\n",
      "Epoch 46/50\n",
      "1/1 [==============================] - 0s 6ms/step - loss: 0.4743\n",
      "Epoch 47/50\n",
      "1/1 [==============================] - 0s 7ms/step - loss: 0.4645\n",
      "Epoch 48/50\n",
      "1/1 [==============================] - 0s 17ms/step - loss: 0.4549\n",
      "Epoch 49/50\n",
      "1/1 [==============================] - 0s 4ms/step - loss: 0.4456\n",
      "Epoch 50/50\n",
      "1/1 [==============================] - 0s 6ms/step - loss: 0.4364\n"
     ]
    },
    {
     "data": {
      "text/plain": [
       "<keras.callbacks.History at 0x1b98df0afd0>"
      ]
     },
     "execution_count": 6,
     "metadata": {},
     "output_type": "execute_result"
    }
   ],
   "source": [
    "xs = np.array([-1.0, 0.0, 1.0, 2.0, 3.0, 4.0], dtype=np.float)\n",
    "ys = np.array([-3.0, -1.0, 1.0, 3.0, 5.0, 7.0], dtype=np.float)\n",
    "\n",
    "model.fit(xs, ys, epochs=50)"
   ]
  },
  {
   "cell_type": "code",
   "execution_count": 8,
   "id": "43f8bdf6",
   "metadata": {},
   "outputs": [
    {
     "data": {
      "text/plain": [
       "array([[-3.5695734]], dtype=float32)"
      ]
     },
     "execution_count": 8,
     "metadata": {},
     "output_type": "execute_result"
    }
   ],
   "source": [
    "model.predict(np.array([-2]))"
   ]
  },
  {
   "cell_type": "code",
   "execution_count": null,
   "id": "d41a3452",
   "metadata": {},
   "outputs": [],
   "source": []
  }
 ],
 "metadata": {
  "kernelspec": {
   "display_name": "Python 3",
   "language": "python",
   "name": "python3"
  },
  "language_info": {
   "codemirror_mode": {
    "name": "ipython",
    "version": 3
   },
   "file_extension": ".py",
   "mimetype": "text/x-python",
   "name": "python",
   "nbconvert_exporter": "python",
   "pygments_lexer": "ipython3",
   "version": "3.8.5"
  }
 },
 "nbformat": 4,
 "nbformat_minor": 5
}
