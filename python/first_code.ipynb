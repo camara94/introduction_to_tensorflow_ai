{
 "cells": [
  {
   "cell_type": "markdown",
   "id": "fe409890",
   "metadata": {},
   "source": [
    "# First Excersice In Tensorflow\n",
    "\n",
    "## Importation des Packages"
   ]
  },
  {
   "cell_type": "code",
   "execution_count": 3,
   "id": "95215abc",
   "metadata": {},
   "outputs": [],
   "source": [
    "import tensorflow as tf\n",
    "from tensorflow import keras\n",
    "import numpy as np"
   ]
  },
  {
   "cell_type": "code",
   "execution_count": 2,
   "id": "a3c1d671",
   "metadata": {},
   "outputs": [],
   "source": []
  }
 ],
 "metadata": {
  "kernelspec": {
   "display_name": "Python 3",
   "language": "python",
   "name": "python3"
  },
  "language_info": {
   "codemirror_mode": {
    "name": "ipython",
    "version": 3
   },
   "file_extension": ".py",
   "mimetype": "text/x-python",
   "name": "python",
   "nbconvert_exporter": "python",
   "pygments_lexer": "ipython3",
   "version": "3.8.5"
  }
 },
 "nbformat": 4,
 "nbformat_minor": 5
}
