{
 "cells": [
  {
   "cell_type": "markdown",
   "id": "c5e11802-4427-4881-8d84-270062029607",
   "metadata": {},
   "source": [
    "# Ungraded Lab: Improving Computer Vision Accuracy using Convolutions"
   ]
  },
  {
   "cell_type": "markdown",
   "id": "03714a98-02cd-4452-abd7-67457a2fa0c8",
   "metadata": {},
   "source": [
    "## Shallow Neural Network"
   ]
  },
  {
   "cell_type": "markdown",
   "id": "3f7dae0d-33e2-44ee-885c-2edff9e7de20",
   "metadata": {},
   "source": [
    "In the previous lessons, you saw how to do fashion recognition using a neural network containing three layers -- the input layer (in the shape of the data), the output layer (in the shape of the desired output) and only one hidden layer. You experimented with the impact of different sizes of hidden layer, number of training epochs etc on the final accuracy. For convenience, here's the entire code again. Run it and take a note of the test accuracy that is printed out at the end."
   ]
  },
  {
   "cell_type": "code",
   "execution_count": 1,
   "id": "965725ff-edea-4b26-8d0f-6af879ee0248",
   "metadata": {},
   "outputs": [],
   "source": [
    "# Import all package I will need\n",
    "%matplotlib inline\n",
    "import tensorflow as tf\n",
    "from tensorflow import keras\n",
    "from tensorflow.keras import datasets\n",
    "import numpy as np\n",
    "import matplotlib.pyplot as plt\n",
    "import seaborn as sns \n",
    "\n",
    "plt.style.use('ggplot')"
   ]
  },
  {
   "cell_type": "code",
   "execution_count": 2,
   "id": "bc382fc8-4303-4495-b90c-4de6d1a582e7",
   "metadata": {},
   "outputs": [
    {
     "name": "stdout",
     "output_type": "stream",
     "text": [
      "shape of training_images: (60000, 28, 28)\n",
      "shape of training_labels: (60000,)\n",
      "shape of test_images: (10000, 28, 28)\n",
      "shape of test_labels: (10000,)\n"
     ]
    }
   ],
   "source": [
    "# create dataset\n",
    "(training_images, training_labels), (test_images, test_labels) = datasets.fashion_mnist.load_data()\n",
    "\n",
    "print(f'shape of training_images: {training_images.shape}')\n",
    "print(f'shape of training_labels: {training_labels.shape}')\n",
    "print(f'shape of test_images: {test_images.shape}')\n",
    "print(f'shape of test_labels: {test_labels.shape}')\n"
   ]
  },
  {
   "cell_type": "code",
   "execution_count": 3,
   "id": "9867892a-4001-40d5-bd73-06ea860af4ce",
   "metadata": {},
   "outputs": [],
   "source": [
    "# Create first models without conv2d\n",
    "model_one = keras.Sequential([\n",
    "    keras.layers.Flatten(input_shape = (training_images.shape[1], training_images.shape[2])),\n",
    "    keras.layers.Dense(128, activation = tf.nn.relu),\n",
    "    keras.layers.Dense(10, activation = tf.nn.softmax)\n",
    "])\n",
    "model_one.compile(\n",
    "    optimizer = 'adam',\n",
    "    loss = 'sparse_categorical_crossentropy',\n",
    "    metrics = ['accuracy']\n",
    ")"
   ]
  },
  {
   "cell_type": "code",
   "execution_count": null,
   "id": "5d0d3310-cb7e-4255-84a0-0eae1e661c31",
   "metadata": {},
   "outputs": [],
   "source": [
    "# train model_one\n",
    "model_one.fit(training_images, training_labels, epochs=5)"
   ]
  }
 ],
 "metadata": {
  "kernelspec": {
   "display_name": "Python 3",
   "language": "python",
   "name": "python3"
  },
  "language_info": {
   "codemirror_mode": {
    "name": "ipython",
    "version": 3
   },
   "file_extension": ".py",
   "mimetype": "text/x-python",
   "name": "python",
   "nbconvert_exporter": "python",
   "pygments_lexer": "ipython3",
   "version": "3.8.5"
  }
 },
 "nbformat": 4,
 "nbformat_minor": 5
}
