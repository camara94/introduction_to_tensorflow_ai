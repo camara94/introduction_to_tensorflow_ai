{
 "cells": [
  {
   "cell_type": "markdown",
   "id": "c5e11802-4427-4881-8d84-270062029607",
   "metadata": {},
   "source": [
    "# Ungraded Lab: Improving Computer Vision Accuracy using Convolutions"
   ]
  },
  {
   "cell_type": "markdown",
   "id": "03714a98-02cd-4452-abd7-67457a2fa0c8",
   "metadata": {},
   "source": [
    "## Shallow Neural Network"
   ]
  },
  {
   "cell_type": "markdown",
   "id": "3f7dae0d-33e2-44ee-885c-2edff9e7de20",
   "metadata": {},
   "source": [
    "In the previous lessons, you saw how to do fashion recognition using a neural network containing three layers -- the input layer (in the shape of the data), the output layer (in the shape of the desired output) and only one hidden layer. You experimented with the impact of different sizes of hidden layer, number of training epochs etc on the final accuracy. For convenience, here's the entire code again. Run it and take a note of the test accuracy that is printed out at the end."
   ]
  },
  {
   "cell_type": "code",
   "execution_count": 1,
   "id": "965725ff-edea-4b26-8d0f-6af879ee0248",
   "metadata": {},
   "outputs": [],
   "source": [
    "# Import all package I will need\n",
    "%matplotlib inline\n",
    "import tensorflow as tf\n",
    "from tensorflow import keras\n",
    "from tensorflow.keras import datasets\n",
    "import numpy as np\n",
    "import matplotlib.pyplot as plt\n",
    "import seaborn as sns \n",
    "\n",
    "plt.style.use('ggplot')"
   ]
  },
  {
   "cell_type": "code",
   "execution_count": 2,
   "id": "bc382fc8-4303-4495-b90c-4de6d1a582e7",
   "metadata": {},
   "outputs": [
    {
     "name": "stdout",
     "output_type": "stream",
     "text": [
      "shape of training_images: (60000, 28, 28)\n",
      "shape of training_labels: (60000,)\n",
      "shape of test_images: (10000, 28, 28)\n",
      "shape of test_labels: (10000,)\n"
     ]
    }
   ],
   "source": [
    "# create dataset\n",
    "(training_images, training_labels), (test_images, test_labels) = datasets.fashion_mnist.load_data()\n",
    "\n",
    "print(f'shape of training_images: {training_images.shape}')\n",
    "print(f'shape of training_labels: {training_labels.shape}')\n",
    "print(f'shape of test_images: {test_images.shape}')\n",
    "print(f'shape of test_labels: {test_labels.shape}')\n"
   ]
  },
  {
   "cell_type": "code",
   "execution_count": 3,
   "id": "9867892a-4001-40d5-bd73-06ea860af4ce",
   "metadata": {},
   "outputs": [],
   "source": [
    "# Create first models without conv2d\n",
    "model_one = keras.Sequential([\n",
    "    keras.layers.Flatten(input_shape = (training_images.shape[1], training_images.shape[2])),\n",
    "    keras.layers.Dense(128, activation = tf.nn.relu),\n",
    "    keras.layers.Dense(10, activation = tf.nn.softmax)\n",
    "])\n",
    "model_one.compile(\n",
    "    optimizer = 'adam',\n",
    "    loss = 'sparse_categorical_crossentropy',\n",
    "    metrics = ['accuracy']\n",
    ")"
   ]
  },
  {
   "cell_type": "code",
   "execution_count": 4,
   "id": "5d0d3310-cb7e-4255-84a0-0eae1e661c31",
   "metadata": {},
   "outputs": [
    {
     "name": "stdout",
     "output_type": "stream",
     "text": [
      "Epoch 1/5\n",
      "1875/1875 [==============================] - 5s 2ms/step - loss: 3.7311 - accuracy: 0.6779\n",
      "Epoch 2/5\n",
      "1875/1875 [==============================] - 4s 2ms/step - loss: 0.7521 - accuracy: 0.7380\n",
      "Epoch 3/5\n",
      "1875/1875 [==============================] - 4s 2ms/step - loss: 0.6131 - accuracy: 0.7823\n",
      "Epoch 4/5\n",
      "1875/1875 [==============================] - 3s 2ms/step - loss: 0.5692 - accuracy: 0.7939\n",
      "Epoch 5/5\n",
      "1875/1875 [==============================] - 4s 2ms/step - loss: 0.5506 - accuracy: 0.8004\n"
     ]
    },
    {
     "data": {
      "text/plain": [
       "<keras.callbacks.History at 0x1db88a08d60>"
      ]
     },
     "execution_count": 4,
     "metadata": {},
     "output_type": "execute_result"
    }
   ],
   "source": [
    "# train model_one\n",
    "model_one.fit(training_images, training_labels, epochs=5)"
   ]
  },
  {
   "cell_type": "code",
   "execution_count": 5,
   "id": "4c1eb76c-78e2-498f-add4-7b507445296d",
   "metadata": {},
   "outputs": [
    {
     "name": "stdout",
     "output_type": "stream",
     "text": [
      "313/313 [==============================] - 1s 1ms/step - loss: 0.5891 - accuracy: 0.7928\n"
     ]
    },
    {
     "data": {
      "text/plain": [
       "[0.5891151428222656, 0.7928000092506409]"
      ]
     },
     "execution_count": 5,
     "metadata": {},
     "output_type": "execute_result"
    }
   ],
   "source": [
    "# Evaluate model\n",
    "model_one.evaluate(test_images, test_labels)"
   ]
  },
  {
   "cell_type": "markdown",
   "id": "7ca560cc-2ed0-4652-baf3-8efae6ee2aa1",
   "metadata": {},
   "source": [
    "## Convolutional Neural Network"
   ]
  },
  {
   "cell_type": "markdown",
   "id": "cba62a9b-74ae-4c58-9cce-6a1c35257fc9",
   "metadata": {},
   "source": [
    "In the model above, your accuracy will probably be about 89% on training and 87% on validation. Not bad. But how do you make that even better? One way is to use something called convolutions. We're not going into the details of convolutions in this notebook (please see resources in the classroom), but the ultimate concept is that they narrow down the content of the image to focus on specific parts and this will likely improve the model accuracy.\n",
    "\n",
    "If you've ever done image processing using a filter (like [this](https://en.wikipedia.org/wiki/Kernel_(image_processing))), then convolutions will look very familiar. In short, you take an array (usually 3x3 or 5x5) and scan it over the entire image. By changing the underlying pixels based on the formula within that matrix, you can do things like edge detection. So, for example, if you look at the above link, you'll see a 3x3 matrix that is defined for edge detection where the middle cell is 8, and all of its neighbors are -1. In this case, for each pixel, you would multiply its value by 8, then subtract the value of each neighbor. Do this for every pixel, and you'll end up with a new image that has the edges enhanced.\n",
    "\n",
    "This is perfect for computer vision because it often highlights features that distinguish one item from another. Moreover, the amount of information needed is then much less because you'll just train on the highlighted features.\n",
    "\n",
    "\n",
    "That's the concept of **Convolutional Neural Networks**. Add some layers to do convolution before you have the dense layers, and then the information going to the dense layers is more focused and possibly more accurate.\n",
    "\n",
    "Run the code below. This is the same neural network as earlier, but this time with [Convolution](https://www.tensorflow.org/api_docs/python/tf/keras/layers/Conv2D) and [MaxPooling](https://www.tensorflow.org/api_docs/python/tf/keras/layers/MaxPool2D) layers added first. It will take longer, but look at the impact on the accuracy."
   ]
  },
  {
   "cell_type": "code",
   "execution_count": 6,
   "id": "afb29243-fc41-4f45-81a9-ffefafcdd10d",
   "metadata": {},
   "outputs": [
    {
     "name": "stdout",
     "output_type": "stream",
     "text": [
      "Model: \"sequential\"\n",
      "_________________________________________________________________\n",
      " Layer (type)                Output Shape              Param #   \n",
      "=================================================================\n",
      " flatten (Flatten)           (None, 784)               0         \n",
      "                                                                 \n",
      " dense (Dense)               (None, 128)               100480    \n",
      "                                                                 \n",
      " dense_1 (Dense)             (None, 10)                1290      \n",
      "                                                                 \n",
      "=================================================================\n",
      "Total params: 101,770\n",
      "Trainable params: 101,770\n",
      "Non-trainable params: 0\n",
      "_________________________________________________________________\n"
     ]
    }
   ],
   "source": [
    "# create model with Conv2d\n",
    "model_two = keras.Sequential([\n",
    "    # Conv2D \n",
    "    keras.layers.Conv2D(\n",
    "        64, \n",
    "        (3,3), \n",
    "        activation = tf.nn.relu, \n",
    "        input_shape = (training_images.shape[1], training_images.shape[2], 1)\n",
    "    ),\n",
    "    keras.layers.MaxPooling2D(2, 2),\n",
    "    keras.layers.Conv2D(\n",
    "        64,\n",
    "        (3,3),\n",
    "        activation = tf.nn.relu\n",
    "    ),\n",
    "    keras.layers.MaxPooling2D(2,2),\n",
    "    \n",
    "    keras.layers.Flatten(input_shape = (training_images[1], training_images.shape[2])),\n",
    "    keras.layers.Dense(128, activation = tf.nn.relu),\n",
    "    keras.layers.Dense(10, activation = tf.nn.softmax)\n",
    "])\n",
    "model_two.compile(\n",
    "    optimizer = 'adam',\n",
    "    loss = 'sparse_categorical_crossentropy',\n",
    "    metrics = ['accuracy']\n",
    ")\n",
    "model_one.summary()"
   ]
  },
  {
   "cell_type": "code",
   "execution_count": 7,
   "id": "abfc401e-cbc1-44e4-8348-9bcbdb2f0adf",
   "metadata": {},
   "outputs": [
    {
     "name": "stdout",
     "output_type": "stream",
     "text": [
      "Epoch 1/5\n",
      "1875/1875 [==============================] - 62s 33ms/step - loss: 0.5881 - accuracy: 0.8293\n",
      "Epoch 2/5\n",
      "1875/1875 [==============================] - 60s 32ms/step - loss: 0.3324 - accuracy: 0.8770\n",
      "Epoch 3/5\n",
      "1875/1875 [==============================] - 60s 32ms/step - loss: 0.2954 - accuracy: 0.8890\n",
      "Epoch 4/5\n",
      "1875/1875 [==============================] - 59s 32ms/step - loss: 0.2730 - accuracy: 0.8984\n",
      "Epoch 5/5\n",
      "1875/1875 [==============================] - 62s 33ms/step - loss: 0.2512 - accuracy: 0.9053\n"
     ]
    },
    {
     "data": {
      "text/plain": [
       "<keras.callbacks.History at 0x1db8c213c70>"
      ]
     },
     "execution_count": 7,
     "metadata": {},
     "output_type": "execute_result"
    }
   ],
   "source": [
    "# training the model_two\n",
    "model_two.fit(training_images, training_labels, epochs=5)"
   ]
  },
  {
   "cell_type": "code",
   "execution_count": 8,
   "id": "c52b29f9-2b59-4876-a01f-4cb12c84aa8d",
   "metadata": {},
   "outputs": [
    {
     "name": "stdout",
     "output_type": "stream",
     "text": [
      "313/313 [==============================] - 3s 10ms/step - loss: 0.3369 - accuracy: 0.8808\n"
     ]
    },
    {
     "data": {
      "text/plain": [
       "[0.3369075357913971, 0.8808000087738037]"
      ]
     },
     "execution_count": 8,
     "metadata": {},
     "output_type": "execute_result"
    }
   ],
   "source": [
    "## evaluate model_two\n",
    "model_two.evaluate(test_images, test_labels)"
   ]
  },
  {
   "cell_type": "markdown",
   "id": "85dddd00-5152-489f-93ce-71d224cc2474",
   "metadata": {},
   "source": [
    "It's likely gone up to about 92% on the training data and 90% on the validation data. That's significant, and a step in the right direction!\n",
    "\n",
    "Look at the code again, and see, step by step how the convolutions were built. Instead of the input layer at the top, you added a [Conv2D layer](https://www.tensorflow.org/api_docs/python/tf/keras/layers/Conv2D). The parameters are:\n",
    "\n",
    " 1. The number of convolutions you want to generate. The value here is purely arbitrary but it's good to use powers of 2 starting from 32.\n",
    " 2. The size of the Convolution. In this case, a 3x3 grid.\n",
    " 3. The activation function to use. In this case, you used a ReLU, which you might recall is the equivalent of returning <code>x</code> when <code>x>0</code>, else return 0.\n",
    " 4. In the first layer, the shape of the input data.\n",
    " \n",
    " \n",
    "You'll follow the convolution with a [MaxPool2D](https://www.tensorflow.org/api_docs/python/tf/keras/layers/MaxPool2D) layer which is designed to compress the image, while maintaining the content of the features that were highlighted by the convlution. By specifying <code>(2,2)</code> for the MaxPooling, the effect is to quarter the size of the image. Without going into too much detail here, the idea is that it creates a 2x2 array of pixels, and picks the biggest one. Thus, it turns 4 pixels into 1. It repeats this across the image, and in doing so, it halves both the number of horizontal and vertical pixels, effectively reducing the image to 25% of the original image.\n",
    " \n",
    "You can call <code>model.summary()</code> to see the size and shape of the network, and you'll notice that after every max pooling layer, the image size is reduced in this way.\n",
    "<pre>\n",
    "model = tf.keras.models.Sequential([\n",
    "              tf.keras.layers.Conv2D(32, (3,3), \n",
    "              activation='relu', input_shape=(28, 28, 1)),\n",
    "              tf.keras.layers.MaxPooling2D(2, 2),\n",
    "              \n",
    "After this, you'll just have the same DNN structure as the non convolutional version. The same 128 dense layers, and 10 output layers as in the pre-convolution example:\n",
    "\n",
    "              tf.keras.layers.Dense(128, activation='relu'),\n",
    "              tf.keras.layers.Dense(10, activation='softmax')\n",
    "            ])\n",
    "</pre>"
   ]
  },
  {
   "cell_type": "markdown",
   "id": "9e2d0791-a6fc-4214-a0c6-b6f62348de8e",
   "metadata": {},
   "source": [
    "## About overfitting"
   ]
  },
  {
   "cell_type": "markdown",
   "id": "a565f1ad-fcf7-418c-8d57-c87451047526",
   "metadata": {},
   "source": [
    "Try running the training for more epochs -- say about 20, and explore the results. But while the results might seem really good, the validation results may actually go down, due to something called overfitting. In a nutshell, overfitting occurs when the network learns the data from the training set really well, but it's too specialised to only that data, and as a result is less effective at interpreting other unseen data. For example, if all your life you only saw red shoes, then when you see a red shoe you would be very good at identifying it. But blue suede shoes might confuse you... and you know you should never mess with my blue suede shoes."
   ]
  },
  {
   "cell_type": "markdown",
   "id": "8b74a6cb-d868-4539-b10a-17913421bf19",
   "metadata": {},
   "source": [
    "## Visualizing the Convolutions and Pooling"
   ]
  },
  {
   "cell_type": "markdown",
   "id": "e1013cb0-f7f3-48dc-b805-8db2cdbc5f3f",
   "metadata": {},
   "source": [
    "Let's explore how to show the convolutions graphically. The cell below prints the first 100 labels in the test set, and you can see that the ones at index <code>0</code>, index <code>23</code> and index <code>28</code> are all the same value (i.e. <code>9</code>). They're all shoes. Let's take a look at the result of running the convolution on each, and you'll begin to see common features between them emerge. Now, when the dense layer is training on that data, it's working with a lot less, and it's perhaps finding a commonality between shoes based on this convolution/pooling combination."
   ]
  },
  {
   "cell_type": "code",
   "execution_count": 9,
   "id": "f9970850-119e-49f5-955c-1c0d2da1ebe8",
   "metadata": {},
   "outputs": [
    {
     "name": "stdout",
     "output_type": "stream",
     "text": [
      "[9 2 1 1 6 1 4 6 5 7 4 5 7 3 4 1 2 4 8 0 2 5 7 9 1 4 6 0 9 3 8 8 3 3 8 0 7\n",
      " 5 7 9 6 1 3 7 6 7 2 1 2 2 4 4 5 8 2 2 8 4 8 0 7 7 8 5 1 1 2 3 9 8 7 0 2 6\n",
      " 2 3 1 2 8 4 1 8 5 9 5 0 3 2 0 6 5 3 6 7 1 8 0 1 4 2]\n"
     ]
    }
   ],
   "source": [
    "print(test_labels[:100])"
   ]
  },
  {
   "cell_type": "code",
   "execution_count": 11,
   "id": "598dd872-7aa0-4754-801a-b72e920fbc4b",
   "metadata": {},
   "outputs": [
    {
     "data": {
      "image/png": "[encoded data removed]",
      "text/plain": [
       "<Figure size 432x288 with 12 Axes>"
      ]
     },
     "metadata": {},
     "output_type": "display_data"
    }
   ],
   "source": [
    "f, axarr = plt.subplots(3,4)\n",
    "\n",
    "FIRST_IMAGE=0\n",
    "SECOND_IMAGE=23\n",
    "THIRD_IMAGE=28\n",
    "CONVOLUTION_NUMBER = 1\n",
    "\n",
    "layer_outputs = [layer.output for layer in model_two.layers]\n",
    "activation_model = tf.keras.models.Model(inputs = model_two.input, outputs = layer_outputs)\n",
    "\n",
    "for x in range(0,4):\n",
    "    f1 = activation_model.predict(test_images[FIRST_IMAGE].reshape(1, 28, 28, 1))[x]\n",
    "    axarr[0,x].imshow(f1[0, : , :, CONVOLUTION_NUMBER], cmap='inferno')\n",
    "    axarr[0,x].grid(False)\n",
    "  \n",
    "    f2 = activation_model.predict(test_images[SECOND_IMAGE].reshape(1, 28, 28, 1))[x]\n",
    "    axarr[1,x].imshow(f2[0, : , :, CONVOLUTION_NUMBER], cmap='inferno')\n",
    "    axarr[1,x].grid(False)\n",
    "  \n",
    "    f3 = activation_model.predict(test_images[THIRD_IMAGE].reshape(1, 28, 28, 1))[x]\n",
    "    axarr[2,x].imshow(f3[0, : , :, CONVOLUTION_NUMBER], cmap='inferno')\n",
    "    axarr[2,x].grid(False)"
   ]
  },
  {
   "cell_type": "code",
   "execution_count": null,
   "id": "4febad95-f39d-4ae0-bc93-54aab68627c4",
   "metadata": {},
   "outputs": [],
   "source": []
  }
 ],
 "metadata": {
  "kernelspec": {
   "display_name": "Python 3",
   "language": "python",
   "name": "python3"
  },
  "language_info": {
   "codemirror_mode": {
    "name": "ipython",
    "version": 3
   },
   "file_extension": ".py",
   "mimetype": "text/x-python",
   "name": "python",
   "nbconvert_exporter": "python",
   "pygments_lexer": "ipython3",
   "version": "3.8.5"
  }
 },
 "nbformat": 4,
 "nbformat_minor": 5
}
