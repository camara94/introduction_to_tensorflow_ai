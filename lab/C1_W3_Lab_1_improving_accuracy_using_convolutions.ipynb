{
 "cells": [
  {
   "cell_type": "markdown",
   "id": "c5e11802-4427-4881-8d84-270062029607",
   "metadata": {},
   "source": [
    "# Ungraded Lab: Improving Computer Vision Accuracy using Convolutions"
   ]
  },
  {
   "cell_type": "markdown",
   "id": "03714a98-02cd-4452-abd7-67457a2fa0c8",
   "metadata": {},
   "source": [
    "## Shallow Neural Network"
   ]
  },
  {
   "cell_type": "markdown",
   "id": "3f7dae0d-33e2-44ee-885c-2edff9e7de20",
   "metadata": {},
   "source": [
    "In the previous lessons, you saw how to do fashion recognition using a neural network containing three layers -- the input layer (in the shape of the data), the output layer (in the shape of the desired output) and only one hidden layer. You experimented with the impact of different sizes of hidden layer, number of training epochs etc on the final accuracy. For convenience, here's the entire code again. Run it and take a note of the test accuracy that is printed out at the end."
   ]
  },
  {
   "cell_type": "code",
   "execution_count": 1,
   "id": "965725ff-edea-4b26-8d0f-6af879ee0248",
   "metadata": {},
   "outputs": [],
   "source": [
    "# Import all package I will need\n",
    "%matplotlib inline\n",
    "import tensorflow as tf\n",
    "from tensorflow import keras\n",
    "from tensorflow.keras import datasets\n",
    "import numpy as np\n",
    "import matplotlib.pyplot as plt\n",
    "import seaborn as sns \n",
    "\n",
    "plt.style.use('ggplot')"
   ]
  },
  {
   "cell_type": "code",
   "execution_count": null,
   "id": "bc382fc8-4303-4495-b90c-4de6d1a582e7",
   "metadata": {},
   "outputs": [],
   "source": [
    "# create dataset\n",
    "(training_images, training_labels), (test_images, test_labels) = datasets.fashion_mnist.load_data()\n",
    "\n",
    "print(f'shape of training_images: {training_images.shape}')\n",
    "print(f'shape of training_labels: {training_labels.shape}')\n",
    "print(f'shape of test_images: {test_images.shape}')\n",
    "print(f'shape of test_labels: {test_labels.shape}')\n"
   ]
  }
 ],
 "metadata": {
  "kernelspec": {
   "display_name": "Python 3",
   "language": "python",
   "name": "python3"
  },
  "language_info": {
   "codemirror_mode": {
    "name": "ipython",
    "version": 3
   },
   "file_extension": ".py",
   "mimetype": "text/x-python",
   "name": "python",
   "nbconvert_exporter": "python",
   "pygments_lexer": "ipython3",
   "version": "3.8.5"
  }
 },
 "nbformat": 4,
 "nbformat_minor": 5
}
