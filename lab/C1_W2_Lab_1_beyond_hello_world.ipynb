{
 "cells": [
  {
   "cell_type": "markdown",
   "id": "206670e6",
   "metadata": {},
   "source": [
    "# Ungraded Lab: Beyond Hello World, A Computer Vision Example"
   ]
  },
  {
   "cell_type": "markdown",
   "id": "4d1b3979",
   "metadata": {},
   "source": [
    "In the previous exercise, you saw how to create a neural network that figured out the problem you were trying to solve. This gave an explicit example of learned behavior. Of course, in that instance, it was a bit of overkill because it would have been easier to write the function <code>y=2x-1</code> directly instead of bothering with using machine learning to learn the relationship between <code>x</code> and <code>y</code>.\n",
    "\n",
    "But what about a scenario where writing rules like that is much more difficult -- for example a computer vision problem? Let's take a look at a scenario where you will build a neural network to recognize different items of clothing, trained from a dataset containing 10 different types."
   ]
  },
  {
   "cell_type": "markdown",
   "id": "8fe877ab",
   "metadata": {},
   "source": [
    "## Start Coding"
   ]
  },
  {
   "cell_type": "markdown",
   "id": "cabcf1de",
   "metadata": {},
   "source": [
    "Let's start with our import of TensorFlow."
   ]
  },
  {
   "cell_type": "code",
   "execution_count": 1,
   "id": "b0abc4df",
   "metadata": {},
   "outputs": [
    {
     "name": "stdout",
     "output_type": "stream",
     "text": [
      "2.6.2\n"
     ]
    }
   ],
   "source": [
    "import tensorflow as tf\n",
    "\n",
    "print(tf.__version__)"
   ]
  },
  {
   "cell_type": "markdown",
   "id": "6e4b62f1",
   "metadata": {},
   "source": [
    "The Fashion MNIST dataset is a collection of grayscale 28x28 pixel clothing images. Each image is associated with a label as shown in this table⁉\n",
    "\n",
    "| Label | Description en | Description fr |\n",
    "| --- | ----------- | ------------ |\n",
    "| 0 | T-shirt/top | Tee-shirt / haut |\n",
    "| 1 | Trouser | Pantalon |\n",
    "| 2 | Pullover | Arrêtez-vous |\n",
    "| 3 | Dress | Robe |\n",
    "| 4 | Coat | Manteau |\n",
    "| 5 | Sandal | Sandale |\n",
    "| 6 | Shirt | Chemise |\n",
    "| 7 | Sneaker | Basket |\n",
    "| 8 | Bag | Sac |\n",
    "| 9 | Ankle boot | Bottine |\n",
    "\n",
    "This dataset is available directly in the [tf.keras.datasets](https://www.tensorflow.org/api_docs/python/tf/keras/datasets) API and you load it like this:"
   ]
  },
  {
   "cell_type": "code",
   "execution_count": 2,
   "id": "471c0877",
   "metadata": {},
   "outputs": [],
   "source": [
    "# Load the Fashion MNIST dataset\n",
    "fmnist = tf.keras.datasets.fashion_mnist"
   ]
  },
  {
   "cell_type": "markdown",
   "id": "4877e62b",
   "metadata": {},
   "source": [
    "Calling <code>load_data()</code> on this object will give you two tuples with two lists each. These will be the training and testing values for the graphics that contain the clothing items and their labels."
   ]
  },
  {
   "cell_type": "code",
   "execution_count": 3,
   "id": "ed67d955",
   "metadata": {},
   "outputs": [],
   "source": [
    "# Load the training and test split of the Fashion MNIST dataset\n",
    "(training_images, training_labels), (test_images, test_labels) = fmnist.load_data()"
   ]
  },
  {
   "cell_type": "markdown",
   "id": "1df8b97a",
   "metadata": {},
   "source": [
    "What does these values look like? Let's print a training image (both as an image and a numpy array), and a training label to see. Experiment with different indices in the array. For example, also take a look at index <code>42</code>. That's a different boot than the one at index <code>0</code>."
   ]
  },
  {
   "cell_type": "code",
   "execution_count": 13,
   "id": "1866e65a",
   "metadata": {},
   "outputs": [
    {
     "name": "stdout",
     "output_type": "stream",
     "text": [
      "Label: 7\n",
      "\n",
      "IMAGE PIXEL ARRAY:\n",
      " [[  0   0   0   0   0   0   0   0   0   0   0   0   0   0   0   0   0   0   0   0   0   0   0   0   0   0   0   0]\n",
      " [  0   0   0   0   0   0   0   0   0   0   0   0   0   0   0   0   0   0   0   0   0   0   0   0   0   0   0   0]\n",
      " [  0   0   0   0   0   0   0   0   0   0   0   0   0   0   0   0   0   0   0   0   0   0   0   0   0   0   0   0]\n",
      " [  0   0   0   0   0   0   0   0   0   0   0   0   0   0   0   0   0   0   0   0   0   0   0   0   0   0   0   0]\n",
      " [  0   0   0   0   0   0   0   0   0   0   0   0   0   0   0   0   0   0   0   0   0   0   0   0   0   0   0   0]\n",
      " [  0   0   0   0   0   0   0   0   0   0   0   0   0   0   0   0   0   0   0   0   0   0   0   0   0   0   0   0]\n",
      " [  0   0   0   0   0   0   0   0   0   0   0   0   0   0   0   0   0   0   0   0   0   0   0   0   0   0   0   0]\n",
      " [  0   0   0   0   0   0   0   0   0   0   0   0   0   0   0   0   0   0   0   0   0   0   0   0   0   0   0   0]\n",
      " [  0   0   0   0   0   0   0   0   0   1   1   0   3   1   0   4   0   0   0   2   0   0   0   0   5   1   0   0]\n",
      " [  0   0   0   0   0   0   0   0   0   0   0   0   4   0   0   0   0   0 106 229   0   0   0   0   0   0   0   0]\n",
      " [  0   0   0   0   0   0   0   0   0   0   1   0   0   0   0  90 138 223 214 209 167   0   0   0   6 124   0   0]\n",
      " [  0   0   0   0   0   0   0   0   1   0   0   0  37 122 179 249 214 195 181 213 241   0   0   0  94 179   0   0]\n",
      " [  0   0   0   2   0   6   0   0   0   0  16 149 236 226 201 195 200 204 155 209 116   0  22 109 251  35  51   0]\n",
      " [  0   0   1   3   0   0   0   0  67 150 240 221 194 190 204 214 205 195 207 185 206 233 224 179   2  10  22   0]\n",
      " [  0   0   0   0   0   0 110 214 237 209 196 192 215 215 213 213 207 193 186 199 206 175   0   0 124 230 200  36]\n",
      " [  0  50 119 158 166 192 204 198 187 202 203 211 214 204 209 210 204 197 191 190 191 229 230 242 214 193 203 137]\n",
      " [108 190 199 200 194 199 194 195 199 200 189 187 191 189 197 198 205 200 200 208 213 215 212 213 209 202 216 137]\n",
      " [ 15  55 114 157 188 207 216 220 217 219 221 242 240 243 249 253 255 255 243 232 226 222 221 213 215 198 209  62]\n",
      " [ 16  11   0   0   7  40  76 108 134 142 143 145 143 123 111  92  76  61  45  35  25  25  31  32  32  12   1   0]\n",
      " [  0  11  25  26  26  22  12  20  15  15  18  17  19  27  30  36  41  49  57  66  79  84  79  83  93  80  75  45]\n",
      " [  0   0   0   0   0   9  14  17  27  34  39  39  42  44  41  41  43  48  43  30  31  35  40  37  40  37  26   0]\n",
      " [  0   0   0   0   0   0   0   0   0   0   0   0   0   0   0   0   0   0   0   0   0   0   0   0   0   0   0   0]\n",
      " [  0   0   0   0   0   0   0   0   0   0   0   0   0   0   0   0   0   0   0   0   0   0   0   0   0   0   0   0]\n",
      " [  0   0   0   0   0   0   0   0   0   0   0   0   0   0   0   0   0   0   0   0   0   0   0   0   0   0   0   0]\n",
      " [  0   0   0   0   0   0   0   0   0   0   0   0   0   0   0   0   0   0   0   0   0   0   0   0   0   0   0   0]\n",
      " [  0   0   0   0   0   0   0   0   0   0   0   0   0   0   0   0   0   0   0   0   0   0   0   0   0   0   0   0]\n",
      " [  0   0   0   0   0   0   0   0   0   0   0   0   0   0   0   0   0   0   0   0   0   0   0   0   0   0   0   0]\n",
      " [  0   0   0   0   0   0   0   0   0   0   0   0   0   0   0   0   0   0   0   0   0   0   0   0   0   0   0   0]]\n"
     ]
    },
    {
     "data": {
      "text/plain": [
       "<matplotlib.image.AxesImage at 0x26ad7f8ca90>"
      ]
     },
     "execution_count": 13,
     "metadata": {},
     "output_type": "execute_result"
    },
    {
     "data": {
      "image/png": "[encoded data removed]",
      "text/plain": [
       "<Figure size 432x288 with 1 Axes>"
      ]
     },
     "metadata": {
      "needs_background": "light"
     },
     "output_type": "display_data"
    }
   ],
   "source": [
    "import numpy as np \n",
    "import matplotlib.pyplot as plt\n",
    "\n",
    "# You can put between 0 to 59999 here\n",
    "index = 6\n",
    "\n",
    "# Set number of caracters pers row when printing\n",
    "np.set_printoptions(linewidth=320)\n",
    "\n",
    "# Print the label and image\n",
    "print(f'Label: {training_labels[index]}')\n",
    "print(f'\\nIMAGE PIXEL ARRAY:\\n {training_images[index]}')\n",
    "\n",
    "# Visualize the image\n",
    "plt.imshow(training_images[index])"
   ]
  },
  {
   "cell_type": "markdown",
   "id": "a919ac02",
   "metadata": {},
   "source": [
    "You'll notice that all of the values in the number are between 0 and 255. If you are training a neural network especially in image processing, for various reasons it will usually learn better if you scale all values to between 0 and 1. It's a process called normalization and fortunately in Python, it's easy to normalize an array without looping. You do it like this:"
   ]
  },
  {
   "cell_type": "code",
   "execution_count": 14,
   "id": "df74f845",
   "metadata": {},
   "outputs": [],
   "source": [
    "# Normalize the pixel values of the train and test images\n",
    "training_images = training_images / 255.0\n",
    "test_images = test_images / 255.0"
   ]
  },
  {
   "cell_type": "markdown",
   "id": "a52f42be",
   "metadata": {},
   "source": [
    "Now you might be wondering why the dataset is split into two: training and testing? Remember we spoke about this in the intro? The idea is to have 1 set of data for training, and then another set of data that the model hasn't yet seen. This will be used to evaluate how good it would be at classifying values.\n",
    "\n",
    "Let's now design the model. There's quite a few new concepts here. But don't worry, you'll get the hang of them."
   ]
  },
  {
   "cell_type": "code",
   "execution_count": 15,
   "id": "7c47921b",
   "metadata": {},
   "outputs": [],
   "source": [
    "# Build the classification model\n",
    "model = tf.keras.Sequential([\n",
    "    tf.keras.layers.Flatten(),\n",
    "    tf.keras.layers.Dense(128, activation = tf.nn.relu),\n",
    "    tf.keras.layers.Dense(10, activation = tf.nn.softmax)\n",
    "])"
   ]
  },
  {
   "cell_type": "markdown",
   "id": "986e763f",
   "metadata": {},
   "source": [
    "[Sequential](https://keras.io/api/models/sequential/): That defines a sequence of layers in the neural network.\n",
    "\n",
    "[Flatten](https://keras.io/api/layers/reshaping_layers/flatten/): Remember earlier where our images were a 28x28 pixel matrix when you printed them out? Flatten just takes that square and turns it into a 1-dimensional array.\n",
    "\n",
    "[Dense](https://keras.io/api/layers/core_layers/dense/): Adds a layer of neurons\n",
    "\n",
    "Each layer of neurons need an [activation](https://keras.io/api/layers/activations/) function to tell them what to do. There are a lot of options, but just use these for now:\n",
    "\n",
    "[ReLU](https://keras.io/api/layers/activations/#relu-function) effectively means:\n",
    "\n",
    "&nbsp;&nbsp;&nbsp;&nbsp;&nbsp;&nbsp;&nbsp;&nbsp;if x > 0: \n",
    "\n",
    " &nbsp;&nbsp;&nbsp;&nbsp;&nbsp;&nbsp;&nbsp;&nbsp;&nbsp;&nbsp;&nbsp;&nbsp;&nbsp;&nbsp;&nbsp;&nbsp;return x\n",
    "\n",
    "&nbsp;&nbsp;&nbsp;&nbsp;&nbsp;&nbsp;&nbsp;&nbsp;else: \n",
    "\n",
    "  &nbsp;&nbsp;&nbsp;&nbsp;&nbsp;&nbsp;&nbsp;&nbsp;&nbsp;&nbsp;&nbsp;&nbsp;&nbsp;&nbsp;&nbsp;&nbsp;return 0\n",
    "\n",
    "In other words, it it only passes values 0 or greater to the next layer in the network.\n",
    "\n",
    "[Softmax](https://keras.io/api/layers/activations/#softmax-function) takes a list of values and scales these so the sum of all elements will be equal to 1. When applied to model outputs, you can think of the scaled values as the probability for that class. For example, in your classification model which has 10 units in the output dense layer, having the highest value at <code>index = 4</code> means that the model is most confident that the input clothing image is a coat. If it is at <code>index = 5</code>, then it is a sandal, and so forth. See the short code block below which demonstrates these concepts. You can also watch this [lecture](https://www.youtube.com/watch?v=LLux1SW--oM) if you want to know more about the Softmax function and how the values are computed."
   ]
  },
  {
   "cell_type": "code",
   "execution_count": 18,
   "id": "c695ce9f",
   "metadata": {},
   "outputs": [
    {
     "name": "stdout",
     "output_type": "stream",
     "text": [
      "input to softmax function: [[1. 3. 4. 2.]]\n",
      "output of softmax function: [[0.0320586  0.23688282 0.64391426 0.08714432]]\n",
      "sum of outputs: 1.0\n",
      "class with highest probability: 2\n"
     ]
    }
   ],
   "source": [
    "# Declare sample inputs and convert to a tensor\n",
    "inputs = np.array([[1.0, 3.0, 4.0, 2.0]])\n",
    "inputs = tf.convert_to_tensor(inputs)\n",
    "print(f'input to softmax function: {inputs.numpy()}')\n",
    "\n",
    "# Feed the inputs to a softmax activation function\n",
    "outputs = tf.keras.activations.softmax(inputs)\n",
    "print(f'output of softmax function: {outputs.numpy()}')\n",
    "\n",
    "# Get the sum of all values after the softmax\n",
    "sum = tf.reduce_sum(outputs)\n",
    "print(f'sum of outputs: {sum}')\n",
    "\n",
    "# Get the index with highest value\n",
    "prediction = np.argmax(outputs)\n",
    "print(f'class with highest probability: {prediction}')"
   ]
  },
  {
   "cell_type": "markdown",
   "id": "baf299bd",
   "metadata": {},
   "source": [
    "The next thing to do, now that the model is defined, is to actually build it. You do this by compiling it with an optimizer and loss function as before -- and then you train it by calling <code>model.fit()</code> asking it to fit your training data to your training labels. It will figure out the relationship between the training data and its actual labels so in the future if you have inputs that looks like the training data, then it can predict what the label for that input is."
   ]
  },
  {
   "cell_type": "code",
   "execution_count": 19,
   "id": "e1d552d2",
   "metadata": {},
   "outputs": [
    {
     "name": "stdout",
     "output_type": "stream",
     "text": [
      "Epoch 1/5\n",
      "1875/1875 [==============================] - 5s 2ms/step - loss: 0.4970 - accuracy: 0.8240\n",
      "Epoch 2/5\n",
      "1875/1875 [==============================] - 4s 2ms/step - loss: 0.3743 - accuracy: 0.8644\n",
      "Epoch 3/5\n",
      "1875/1875 [==============================] - 5s 3ms/step - loss: 0.3329 - accuracy: 0.8784\n",
      "Epoch 4/5\n",
      "1875/1875 [==============================] - 4s 2ms/step - loss: 0.3096 - accuracy: 0.8855\n",
      "Epoch 5/5\n",
      "1875/1875 [==============================] - 4s 2ms/step - loss: 0.2924 - accuracy: 0.8921\n"
     ]
    },
    {
     "data": {
      "text/plain": [
       "<keras.callbacks.History at 0x26afe7faca0>"
      ]
     },
     "execution_count": 19,
     "metadata": {},
     "output_type": "execute_result"
    }
   ],
   "source": [
    "model.compile(optimizer = tf.optimizers.Adam(),\n",
    "              loss = 'sparse_categorical_crossentropy',\n",
    "              metrics=['accuracy'])\n",
    "\n",
    "model.fit(training_images, training_labels, epochs=5)"
   ]
  },
  {
   "cell_type": "markdown",
   "id": "cd6baa01",
   "metadata": {},
   "source": [
    "Once it's done training -- you should see an accuracy value at the end of the final epoch. It might look something like <code>0.9098</code>. This tells you that your neural network is about <code>91%</code> accurate in classifying the training data. That is, it figured out a pattern match between the image and the labels that worked <code>91%</code> of the time. Not great, but not bad considering it was only trained for 5 epochs and done quite quickly.\n",
    "\n",
    "But how would it work with unseen data? That's why we have the test images and labels. We can call <code>model.evaluate()</code> with this test dataset as inputs and it will report back the loss and accuracy of the model. Let's give it a try:"
   ]
  },
  {
   "cell_type": "code",
   "execution_count": 20,
   "id": "4d991956",
   "metadata": {},
   "outputs": [
    {
     "name": "stdout",
     "output_type": "stream",
     "text": [
      "313/313 [==============================] - 1s 2ms/step - loss: 0.3695 - accuracy: 0.8661\n"
     ]
    },
    {
     "data": {
      "text/plain": [
       "[0.3695196509361267, 0.866100013256073]"
      ]
     },
     "execution_count": 20,
     "metadata": {},
     "output_type": "execute_result"
    }
   ],
   "source": [
    "# Evaluate the model on unseen data\n",
    "model.evaluate(test_images, test_labels)"
   ]
  },
  {
   "cell_type": "markdown",
   "id": "5b028fcd",
   "metadata": {},
   "source": [
    "You can expect the accuracy here to be about 0.88 which means it was <code>88%</code> accurate on the entire test set. As expected, it probably would not do as well with unseen data as it did with data it was trained on! As you go through this course, you'll look at ways to improve this."
   ]
  },
  {
   "cell_type": "markdown",
   "id": "5cb7e4a8",
   "metadata": {},
   "source": [
    "## Exploration Exercises\n",
    "To explore further and deepen your understanding, try the below exercises:"
   ]
  },
  {
   "cell_type": "markdown",
   "id": "b738cc2d",
   "metadata": {},
   "source": [
    "### Exercise 1:\n",
    "For this first exercise run the below code: It creates a set of classifications for each of the test images, and then prints the first entry in the classifications. The output, after you run it is a list of numbers. Why do you think this is, and what do those numbers represent?"
   ]
  },
  {
   "cell_type": "code",
   "execution_count": 54,
   "id": "0093f0a3",
   "metadata": {},
   "outputs": [
    {
     "name": "stdout",
     "output_type": "stream",
     "text": [
      "9\n"
     ]
    }
   ],
   "source": [
    "classifications = model.predict(test_images)\n",
    "y_pred = np.argmax(classifications[0])\n",
    "print(y_pred)"
   ]
  },
  {
   "cell_type": "markdown",
   "id": "fa19398d",
   "metadata": {},
   "source": [
    "Hint: try running <code>print(test_labels[0])</code> -- and you'll get a <code>**9**</code>. Does that help you understand why this list looks the way it does?"
   ]
  },
  {
   "cell_type": "code",
   "execution_count": 55,
   "id": "c29b783c",
   "metadata": {},
   "outputs": [
    {
     "name": "stdout",
     "output_type": "stream",
     "text": [
      "9\n"
     ]
    }
   ],
   "source": [
    "print(test_labels[0])"
   ]
  },
  {
   "cell_type": "markdown",
   "id": "af7b2c27",
   "metadata": {},
   "source": [
    "### E1Q1: What does this list represent?\n",
    "1. It's 10 random meaningless values\n",
    "2. It's the first 10 classifications that the computer made\n",
    "3. It's the probability that this item is each of the 10 classes\n",
    "\n",
    "Click for Answer\n",
    "\n",
    "\\#\\#\\#\\# Answer: The correct answer is (3) The output of the model is a list of 10 numbers. These numbers are a probability that the value being classified is the corresponding value (https://github.com/zalandoresearch/fashion-mnist#labels), i.e. the first value in the list is the probability that the image is of a '0' (T-shirt/top), the next is a '1' (Trouser) etc. Notice that they are all VERY LOW probabilities. For index 9 (Ankle boot), the probability was in the 90's, i.e. the neural network is telling us that the image is most likely an ankle boot."
   ]
  },
  {
   "cell_type": "code",
   "execution_count": 26,
   "id": "9b8a06c5",
   "metadata": {},
   "outputs": [
    {
     "data": {
      "text/plain": [
       "array([2.60362799e-06, 2.00053293e-07, 1.11529864e-07, 2.55114019e-09, 7.46010542e-08, 8.44363030e-03, 1.48114873e-06, 9.70967337e-02, 1.60263971e-05, 8.94439220e-01], dtype=float32)"
      ]
     },
     "execution_count": 26,
     "metadata": {},
     "output_type": "execute_result"
    }
   ],
   "source": [
    "classifications[0]"
   ]
  },
  {
   "cell_type": "code",
   "execution_count": 49,
   "id": "3d0c5faa",
   "metadata": {},
   "outputs": [
    {
     "data": {
      "text/plain": [
       "[array([-0.40083248,  0.12456637, -0.66511196, -0.6300224 ,  0.57988153, -0.83752972,  1.41981952, -0.30977229, -0.99381127,  0.13515864])]"
      ]
     },
     "execution_count": 49,
     "metadata": {},
     "output_type": "execute_result"
    }
   ],
   "source": [
    "[i for i in np.random.randn(1, 10)]"
   ]
  },
  {
   "cell_type": "code",
   "execution_count": null,
   "id": "c42ff1fb",
   "metadata": {},
   "outputs": [],
   "source": []
  },
  {
   "cell_type": "code",
   "execution_count": null,
   "id": "84f843ad",
   "metadata": {},
   "outputs": [],
   "source": []
  },
  {
   "cell_type": "code",
   "execution_count": null,
   "id": "affd8e56",
   "metadata": {},
   "outputs": [],
   "source": []
  }
 ],
 "metadata": {
  "kernelspec": {
   "display_name": "Python 3",
   "language": "python",
   "name": "python3"
  },
  "language_info": {
   "codemirror_mode": {
    "name": "ipython",
    "version": 3
   },
   "file_extension": ".py",
   "mimetype": "text/x-python",
   "name": "python",
   "nbconvert_exporter": "python",
   "pygments_lexer": "ipython3",
   "version": "3.8.5"
  }
 },
 "nbformat": 4,
 "nbformat_minor": 5
}
