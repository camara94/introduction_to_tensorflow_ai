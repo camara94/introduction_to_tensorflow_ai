{
 "cells": [
  {
   "cell_type": "markdown",
   "id": "9084a86f-ff70-4412-aeae-974112497828",
   "metadata": {},
   "source": [
    "# Ungraded Lab: Exploring Convolutions"
   ]
  },
  {
   "cell_type": "markdown",
   "id": "b957458b-a04c-4789-b0fe-db85f7813c80",
   "metadata": {},
   "source": [
    "In this lab, you will explore how convolutions work by creating a basic convolution on a 2D grayscale image. First, you wil load the image by taking the [ascent](https://docs.scipy.org/doc/scipy/reference/generated/scipy.misc.ascent.html) image from [SciPy](https://scipy.org/). It's a nice, built-in picture with lots of angles and lines."
   ]
  },
  {
   "cell_type": "code",
   "execution_count": 1,
   "id": "b1fbae47-1ecf-4913-861b-ac725ac61abf",
   "metadata": {},
   "outputs": [],
   "source": [
    "from scipy import misc\n",
    "\n",
    "# load the image\n",
    "ascent_image = misc.ascent()"
   ]
  },
  {
   "cell_type": "code",
   "execution_count": null,
   "id": "3383f969-9331-40f5-b08f-a2d88f1dc7c4",
   "metadata": {},
   "outputs": [],
   "source": []
  }
 ],
 "metadata": {
  "kernelspec": {
   "display_name": "Python 3",
   "language": "python",
   "name": "python3"
  },
  "language_info": {
   "codemirror_mode": {
    "name": "ipython",
    "version": 3
   },
   "file_extension": ".py",
   "mimetype": "text/x-python",
   "name": "python",
   "nbconvert_exporter": "python",
   "pygments_lexer": "ipython3",
   "version": "3.8.5"
  }
 },
 "nbformat": 4,
 "nbformat_minor": 5
}
